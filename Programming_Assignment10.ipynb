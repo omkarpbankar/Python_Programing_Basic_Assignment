{
 "cells": [
  {
   "cell_type": "markdown",
   "metadata": {},
   "source": [
    "1. Write a Python program to find sum of elements in list?"
   ]
  },
  {
   "cell_type": "code",
   "execution_count": 2,
   "metadata": {},
   "outputs": [
    {
     "name": "stdout",
     "output_type": "stream",
     "text": [
      "eneter integer numbers with space1 2 3 4  6 7 88\n",
      "111\n"
     ]
    }
   ],
   "source": [
    "inplist = input('eneter integer numbers with space').split()\n",
    "sum = 0\n",
    "for i in inplist:\n",
    "    sum = sum+int(i)\n",
    "print(sum)"
   ]
  },
  {
   "cell_type": "markdown",
   "metadata": {},
   "source": [
    "2. Write a Python program to Multiply all numbers in list?"
   ]
  },
  {
   "cell_type": "code",
   "execution_count": 3,
   "metadata": {},
   "outputs": [
    {
     "name": "stdout",
     "output_type": "stream",
     "text": [
      "eneter integer numbers with space 2 3 4 5 6\n",
      "720\n"
     ]
    }
   ],
   "source": [
    "inplist = input('eneter integer numbers with space').split()\n",
    "mul = 1\n",
    "for i in inplist:\n",
    "    mul = mul*int(i)\n",
    "print(mul)"
   ]
  },
  {
   "cell_type": "markdown",
   "metadata": {},
   "source": [
    "3. Write a Python program to find smallest number in a list?"
   ]
  },
  {
   "cell_type": "code",
   "execution_count": 6,
   "metadata": {},
   "outputs": [
    {
     "name": "stdout",
     "output_type": "stream",
     "text": [
      "eneter integer numbers with space2 3 4 5 6 720 3 1 0\n",
      "0\n"
     ]
    }
   ],
   "source": [
    "inplist = input('eneter integer numbers with space').split()\n",
    "temp = int(inplist[0])\n",
    "for i in inplist:\n",
    "    if temp > int(i):\n",
    "        temp = int(i)\n",
    "print(temp)"
   ]
  },
  {
   "cell_type": "markdown",
   "metadata": {},
   "source": [
    "4. Write a Python program to find largest number in a list?"
   ]
  },
  {
   "cell_type": "code",
   "execution_count": 7,
   "metadata": {},
   "outputs": [
    {
     "name": "stdout",
     "output_type": "stream",
     "text": [
      "eneter integer numbers with space2 3 4 5 6 720 3 1 0\n",
      "720\n"
     ]
    }
   ],
   "source": [
    "inplist = input('eneter integer numbers with space').split()\n",
    "temp = int(inplist[0])\n",
    "for i in inplist:\n",
    "    if temp < int(i):\n",
    "        temp = int(i)\n",
    "print(temp)"
   ]
  },
  {
   "cell_type": "markdown",
   "metadata": {},
   "source": [
    "5. Write a Python program to find second largest number in a list?"
   ]
  },
  {
   "cell_type": "code",
   "execution_count": 8,
   "metadata": {},
   "outputs": [
    {
     "name": "stdout",
     "output_type": "stream",
     "text": [
      "enter integer numbers with space2 3 4 5 6 720 3 1 0\n",
      "second maximu number is:  6\n"
     ]
    }
   ],
   "source": [
    "inplist = input('enter integer numbers with space').split()\n",
    "inplist = [int(i) for i in inplist]\n",
    "sortedInpList = sorted(inplist)\n",
    "print('second maximu number is: ',sortedInpList[-2])"
   ]
  },
  {
   "cell_type": "markdown",
   "metadata": {},
   "source": [
    "6. Write a Python program to find N largest elements from a list?"
   ]
  },
  {
   "cell_type": "code",
   "execution_count": 12,
   "metadata": {},
   "outputs": [
    {
     "name": "stdout",
     "output_type": "stream",
     "text": [
      "enter integer numbers with space: 2 3 4 5 6 720 3 1 0\n",
      "nth largest numebr to display: 5\n",
      "largest number at position 5 is 3: \n"
     ]
    }
   ],
   "source": [
    "inplist = input('enter integer numbers with space: ').split()\n",
    "inplist = [int(i) for i in inplist]\n",
    "sortedInpList = sorted(inplist)\n",
    "nth = int(input('nth largest numebr to display: '))\n",
    "print('largest number at position {} is {}: '.format(nth,sortedInpList[-nth]))"
   ]
  },
  {
   "cell_type": "markdown",
   "metadata": {},
   "source": [
    "7. Write a Python program to print even numbers in a list?"
   ]
  },
  {
   "cell_type": "code",
   "execution_count": 19,
   "metadata": {},
   "outputs": [
    {
     "name": "stdout",
     "output_type": "stream",
     "text": [
      "enter integer numbers with space: 2 3 4 5 6 720 3 1 0 5\n",
      "3\n",
      "5\n",
      "720\n",
      "1\n",
      "5\n"
     ]
    }
   ],
   "source": [
    "inplist = input('enter integer numbers with space: ').split()\n",
    "inplist = [int(i) for i in inplist]\n",
    "pos = 1\n",
    "lenlist = len(inplist)\n",
    "while(pos < lenlist):\n",
    "    print(inplist[pos])\n",
    "    pos+=2"
   ]
  },
  {
   "cell_type": "markdown",
   "metadata": {},
   "source": [
    "8. Write a Python program to print odd numbers in a List?"
   ]
  },
  {
   "cell_type": "code",
   "execution_count": 21,
   "metadata": {},
   "outputs": [
    {
     "name": "stdout",
     "output_type": "stream",
     "text": [
      "enter integer numbers with space: 2 3 4 5 6 720 3 1 0 5\n",
      "2\n",
      "4\n",
      "6\n",
      "3\n",
      "0\n"
     ]
    }
   ],
   "source": [
    "inplist = input('enter integer numbers with space: ').split()\n",
    "inplist = [int(i) for i in inplist]\n",
    "pos = 0\n",
    "lenlist = len(inplist)\n",
    "while(pos < lenlist):\n",
    "    print(inplist[pos])\n",
    "    pos+=2"
   ]
  },
  {
   "cell_type": "markdown",
   "metadata": {},
   "source": [
    "9. Write a Python program to Remove empty List from List?"
   ]
  },
  {
   "cell_type": "code",
   "execution_count": 23,
   "metadata": {},
   "outputs": [
    {
     "name": "stdout",
     "output_type": "stream",
     "text": [
      "['uday', 1, 3, 'abc12', [1, 2, 3], {'a': 1, 'b': 2}]\n"
     ]
    }
   ],
   "source": [
    "exList = ['uday', 1, 3, 'abc12',[1,2,3],[],{'a':1,'b':2}]\n",
    "for i in exList:\n",
    "    if type(i) is list:\n",
    "        if not i:\n",
    "            exList.remove(i)\n",
    "print(exList)"
   ]
  },
  {
   "cell_type": "markdown",
   "metadata": {},
   "source": [
    "10. Write a Python program to Cloning or Copying a list?"
   ]
  },
  {
   "cell_type": "code",
   "execution_count": 24,
   "metadata": {},
   "outputs": [
    {
     "name": "stdout",
     "output_type": "stream",
     "text": [
      "original list:  ['uday', 1, 3, 'abc12', [1, 2, 3], [], {'a': 1, 'b': 2}]\n",
      "cloned list:  ['uday', 1, 3, 'abc12', [1, 2, 3], [], {'a': 1, 'b': 2}]\n"
     ]
    }
   ],
   "source": [
    "exList = ['uday', 1, 3, 'abc12',[1,2,3],[],{'a':1,'b':2}]\n",
    "newlist = list(exList)\n",
    "print('original list: ',exList)\n",
    "print('cloned list: ',newlist)"
   ]
  },
  {
   "cell_type": "markdown",
   "metadata": {},
   "source": [
    "11. Write a Python program to Count occurrences of an element in a list?"
   ]
  },
  {
   "cell_type": "code",
   "execution_count": 28,
   "metadata": {},
   "outputs": [
    {
     "name": "stdout",
     "output_type": "stream",
     "text": [
      "occurance of uday in the list is 3: \n",
      "occurance of 1 in the list is 1: \n",
      "occurance of 3 in the list is 3: \n",
      "occurance of 4 in the list is 2: \n",
      "occurance of abc12 in the list is 1: \n",
      "occurance of [1, 2, 3] in the list is 2: \n",
      "occurance of [] in the list is 1: \n",
      "occurance of {'a': 1, 'b': 2} in the list is 1: \n"
     ]
    }
   ],
   "source": [
    "exList = ['uday', 1, 3,3,3,4,4,'uday','uday', 'abc12',[1,2,3],[1,2,3],[],{'a':1,'b':2}]\n",
    "exList_unique = []\n",
    "for item in exList:\n",
    "    if item not in exList_unique:\n",
    "        exList_unique.append(item)\n",
    "for item in exList_unique:\n",
    "    print('occurance of {} in the list is {}: '.format(item,exList.count(item)))"
   ]
  },
  {
   "cell_type": "code",
   "execution_count": null,
   "metadata": {},
   "outputs": [],
   "source": []
  }
 ],
 "metadata": {
  "kernelspec": {
   "display_name": "Python 3",
   "language": "python",
   "name": "python3"
  },
  "language_info": {
   "codemirror_mode": {
    "name": "ipython",
    "version": 3
   },
   "file_extension": ".py",
   "mimetype": "text/x-python",
   "name": "python",
   "nbconvert_exporter": "python",
   "pygments_lexer": "ipython3",
   "version": "3.7.6"
  }
 },
 "nbformat": 4,
 "nbformat_minor": 4
}
