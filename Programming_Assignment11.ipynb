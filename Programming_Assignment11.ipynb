{
 "cells": [
  {
   "cell_type": "markdown",
   "metadata": {},
   "source": [
    "1. Write a Python program to find words which are greater than given length k?"
   ]
  },
  {
   "cell_type": "code",
   "execution_count": 13,
   "metadata": {},
   "outputs": [],
   "source": [
    "paragraph = \"The Bay of Bengal is the northeastern part of the Indian Ocean, bounded on the west and northwest by India, on the north by Bangladesh, and on the east by Myanmar and the Andaman and Nicobar Islands of India. Its southern limit is a line between Sangaman Kanda, Sri Lanka and the north westernmost point of Sumatra (Indonesia). It is the largest water region called a bay in the world. There are countries dependent on the Bay of Bengal in South Asia and Southeast Asia. In ancient Classical India, the Bay of Bengal was known as Kalinga Sagar (Kalinga Sea).[3][4] Later during the British India, it came forth as the Bay of Bengal after the historic Bengal region, as the Port of Kolkata served as the gateway to the Crown rule in India. Cox's Bazar, the longest sea beach in the world and Sundarbans, the largest mangrove forest and the natural habitat of the Bengal tiger, are located along the bay.\""
   ]
  },
  {
   "cell_type": "code",
   "execution_count": 14,
   "metadata": {},
   "outputs": [
    {
     "name": "stdout",
     "output_type": "stream",
     "text": [
      "please enter the length of the word: 5\n",
      "words with length more than 5 is given below:\n",
      "['Bengal', 'northeastern', 'Indian', 'Ocean,', 'bounded', 'northwest', 'India,', 'Bangladesh,', 'Myanmar', 'Andaman', 'Nicobar', 'Islands', 'India.', 'southern', 'between', 'Sangaman', 'Kanda,', 'westernmost', 'Sumatra', '(Indonesia).', 'largest', 'region', 'called', 'world.', 'countries', 'dependent', 'Bengal', 'Southeast', 'ancient', 'Classical', 'India,', 'Bengal', 'Kalinga', '(Kalinga', 'Sea).[3][4]', 'during', 'British', 'India,', 'Bengal', 'historic', 'Bengal', 'region,', 'Kolkata', 'served', 'gateway', 'India.', 'Bazar,', 'longest', 'Sundarbans,', 'largest', 'mangrove', 'forest', 'natural', 'habitat', 'Bengal', 'tiger,', 'located']\n"
     ]
    }
   ],
   "source": [
    "length = int(input(\"please enter the length of the word: \"))\n",
    "paragraph = paragraph.split()\n",
    "newWordList = []\n",
    "for word in paragraph:\n",
    "    if len(word) > length:\n",
    "        newWordList.append(word)\n",
    "print('words with length more than {} is given below:\\n{}'.format(length, newWordList))"
   ]
  },
  {
   "cell_type": "markdown",
   "metadata": {},
   "source": [
    "2. Write a Python program for removing i-th character from a string?"
   ]
  },
  {
   "cell_type": "code",
   "execution_count": 23,
   "metadata": {},
   "outputs": [
    {
     "name": "stdout",
     "output_type": "stream",
     "text": [
      "enter the position of character whch you want to delete: 0\n",
      "New string after removing the character from the position 0 is given below:\n",
      "he Bay of Bengal occupies an area of 2,600,000 square kilometres (1,000,000 sq mi). \n"
     ]
    }
   ],
   "source": [
    "string = \"The Bay of Bengal occupies an area of 2,600,000 square kilometres (1,000,000 sq mi). \"\n",
    "pos = int(input(\"enter the position of character whch you want to delete: \"))\n",
    "string = string[:pos]+string[pos+1:]\n",
    "string = \"\".join(string)\n",
    "print('New string after removing the character from the position {} is given below:\\n{}'.format(pos, string))"
   ]
  },
  {
   "cell_type": "markdown",
   "metadata": {},
   "source": [
    "3. Write a Python program to split and join a string?"
   ]
  },
  {
   "cell_type": "code",
   "execution_count": 30,
   "metadata": {},
   "outputs": [
    {
     "name": "stdout",
     "output_type": "stream",
     "text": [
      "string before split is: The Bay of Bengal occupies an area of 2,600,000 square kilometres (1,000,000 sq mi). \n",
      "string after split is: ['The', 'Bay', 'of', 'Bengal', 'occupies', 'an', 'area', 'of', '2,600,000', 'square', 'kilometres', '(1,000,000', 'sq', 'mi).']\n",
      "enter a separator to join a string: ,\n",
      "string after join using separator ',' is: The,Bay,of,Bengal,occupies,an,area,of,2,600,000,square,kilometres,(1,000,000,sq,mi).\n"
     ]
    }
   ],
   "source": [
    "string = \"The Bay of Bengal occupies an area of 2,600,000 square kilometres (1,000,000 sq mi). \"\n",
    "print(\"string before split is: {}\".format(string))\n",
    "string = string.split()\n",
    "print(\"string after split is: {}\".format(string))\n",
    "separator = input('enter a separator to join a string: ')\n",
    "string = separator.join(string)\n",
    "print(\"string after join using separator '{}' is: {}\".format(separator,string))"
   ]
  },
  {
   "cell_type": "markdown",
   "metadata": {},
   "source": [
    "4. Write a Python to check if a given string is binary string or not?"
   ]
  },
  {
   "cell_type": "code",
   "execution_count": 48,
   "metadata": {},
   "outputs": [
    {
     "name": "stdout",
     "output_type": "stream",
     "text": [
      "string is binary\n"
     ]
    }
   ],
   "source": [
    "string = \"101010101010\"\n",
    "def isbinarystr(string):\n",
    "    flag  = True\n",
    "    for i in string:\n",
    "        if i is not '0' and i is not '1':\n",
    "            flag = False\n",
    "            break\n",
    "    if flag:\n",
    "        print(\"string is binary\")\n",
    "    else:\n",
    "        print(\"string is not binary\")\n",
    "isbinarystr(string)"
   ]
  },
  {
   "cell_type": "markdown",
   "metadata": {},
   "source": [
    "5. Write a Python program to find uncommon words from two Strings?"
   ]
  },
  {
   "cell_type": "code",
   "execution_count": 64,
   "metadata": {},
   "outputs": [
    {
     "name": "stdout",
     "output_type": "stream",
     "text": [
      "uncommon words betwen two string are: ['Hritik', 'Amitabh']\n"
     ]
    }
   ],
   "source": [
    "string1 = \"My name is Hritik\"\n",
    "string1 = string1.split()\n",
    "string2 = \"My name is Amitabh\"\n",
    "string2 = string2.split()\n",
    "uncommonList = []\n",
    "for i in string1:\n",
    "    if i not in string2 and i not in uncommonList:\n",
    "        uncommonList.append(i)\n",
    "for i in string2:\n",
    "    if i not in string1 and i not in uncommonList:\n",
    "        uncommonList.append(i)\n",
    "print(\"uncommon words betwen two string are: {}\".format(uncommonList))"
   ]
  },
  {
   "cell_type": "markdown",
   "metadata": {},
   "source": [
    "6. Write a Python to find all duplicate characters in string?"
   ]
  },
  {
   "cell_type": "code",
   "execution_count": 70,
   "metadata": {},
   "outputs": [
    {
     "name": "stdout",
     "output_type": "stream",
     "text": [
      "duplicate characters in string are: [' ', 'i']\n"
     ]
    }
   ],
   "source": [
    "string = \"My name is Hritik\"\n",
    "duplicateList = []\n",
    "for i in string:\n",
    "    if string.count(i) > 1 and i not in duplicateList:\n",
    "        duplicateList.append(i)\n",
    "print(\"duplicate characters in string are: {}\".format(duplicateList))"
   ]
  },
  {
   "cell_type": "markdown",
   "metadata": {},
   "source": [
    "7. Write a Python Program to check if a string contains any special character?"
   ]
  },
  {
   "cell_type": "code",
   "execution_count": 71,
   "metadata": {},
   "outputs": [
    {
     "name": "stdout",
     "output_type": "stream",
     "text": [
      "special characters in string are: ['#', '%', '^', '&', '*', '!', '@']\n"
     ]
    }
   ],
   "source": [
    "import re\n",
    "string = \"My #%^&name%&* is !@Hritik\"\n",
    "special_characters_list = []\n",
    "special_characters = re.compile('[@_!#$%^&*()<>?/\\|}{~:]')\n",
    "for i in string:\n",
    "    if special_characters.search(i) and i not in special_characters_list:\n",
    "        special_characters_list.append(i)\n",
    "print(\"special characters in string are: {}\".format(special_characters_list))\n"
   ]
  },
  {
   "cell_type": "code",
   "execution_count": null,
   "metadata": {},
   "outputs": [],
   "source": []
  },
  {
   "cell_type": "code",
   "execution_count": null,
   "metadata": {},
   "outputs": [],
   "source": []
  }
 ],
 "metadata": {
  "kernelspec": {
   "display_name": "Python 3",
   "language": "python",
   "name": "python3"
  },
  "language_info": {
   "codemirror_mode": {
    "name": "ipython",
    "version": 3
   },
   "file_extension": ".py",
   "mimetype": "text/x-python",
   "name": "python",
   "nbconvert_exporter": "python",
   "pygments_lexer": "ipython3",
   "version": "3.7.6"
  }
 },
 "nbformat": 4,
 "nbformat_minor": 4
}
