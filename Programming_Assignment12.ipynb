{
 "cells": [
  {
   "cell_type": "markdown",
   "metadata": {},
   "source": [
    "1. Write a Python program to Extract Unique values dictionary values?"
   ]
  },
  {
   "cell_type": "code",
   "execution_count": null,
   "metadata": {},
   "outputs": [],
   "source": [
    "1. Write a Python program to Extract Unique values dictionary values"
   ]
  },
  {
   "cell_type": "code",
   "execution_count": 7,
   "metadata": {},
   "outputs": [
    {
     "name": "stdout",
     "output_type": "stream",
     "text": [
      " Unique values dictionary values are {1, 2, 3, 4, 5}\n"
     ]
    }
   ],
   "source": [
    "dict = {}\n",
    "dict['a'] = 1\n",
    "dict['b'] = 2\n",
    "dict['c'] = 3\n",
    "dict['d'] = 1\n",
    "dict['e'] = 4\n",
    "dict['f'] = 5\n",
    "print(\" Unique values dictionary values are {}\".format(set(dict.values())))"
   ]
  },
  {
   "cell_type": "markdown",
   "metadata": {},
   "source": [
    "2. Write a Python program to find the sum of all items in a dictionary?"
   ]
  },
  {
   "cell_type": "code",
   "execution_count": 12,
   "metadata": {},
   "outputs": [
    {
     "name": "stdout",
     "output_type": "stream",
     "text": [
      "16\n"
     ]
    }
   ],
   "source": [
    "dict = {}\n",
    "dict['a'] = 1\n",
    "dict['b'] = 2\n",
    "dict['c'] = 3\n",
    "dict['d'] = 1\n",
    "dict['e'] = 4\n",
    "dict['f'] = 5\n",
    "sum = 0\n",
    "for item in dict.items():\n",
    "    sum = sum + item[1]\n",
    "print(sum)"
   ]
  },
  {
   "cell_type": "markdown",
   "metadata": {},
   "source": [
    "3. Write a Python program to Merging two Dictionaries?"
   ]
  },
  {
   "cell_type": "code",
   "execution_count": 17,
   "metadata": {},
   "outputs": [
    {
     "name": "stdout",
     "output_type": "stream",
     "text": [
      "Dictionary after merge: {'a': 1, 'b': 2, 'c': 3, 'd': 1, 'e': 4, 'f': 5, 'g': 1, 'h': 2, 'i': 3, 'j': 1, 'k': 4, 'l': 5}\n"
     ]
    }
   ],
   "source": [
    "dict1 = {}\n",
    "dict1['a'] = 1\n",
    "dict1['b'] = 2\n",
    "dict1['c'] = 3\n",
    "dict1['d'] = 1\n",
    "dict1['e'] = 4\n",
    "dict1['f'] = 5\n",
    "\n",
    "dict2 = {}\n",
    "dict2['g'] = 1\n",
    "dict2['h'] = 2\n",
    "dict2['i'] = 3\n",
    "dict2['j'] = 1\n",
    "dict2['k'] = 4\n",
    "dict2['l'] = 5\n",
    "\n",
    "dict = {**dict1, **dict2}\n",
    "print('Dictionary after merge: {}'.format(dict))"
   ]
  },
  {
   "cell_type": "markdown",
   "metadata": {},
   "source": [
    "4. Write a Python program to convert key-values list to flat dictionary?"
   ]
  },
  {
   "cell_type": "code",
   "execution_count": 61,
   "metadata": {},
   "outputs": [
    {
     "name": "stdout",
     "output_type": "stream",
     "text": [
      "{'Andhra Pradesh': 'Hyderabad', 'Bihar': 'Patna', 'Chhattisgarh': 'Raipur'}\n"
     ]
    }
   ],
   "source": [
    "from itertools import product\n",
    "dict1 = {'states':['Andhra Pradesh', 'Bihar', 'Chhattisgarh'],'capitals':['Hyderabad', 'Patna', 'Raipur']}\n",
    "x = zip(tuple(dict1['states']),tuple(dict1['capitals']))\n",
    "y = tuple(x)\n",
    "state_capital_dict = {}\n",
    "for i in y:\n",
    "    state_capital_dict[i[0]] = i[1]\n",
    "print(state_capital_dict)"
   ]
  },
  {
   "cell_type": "markdown",
   "metadata": {},
   "source": [
    "5. Write a Python program to insertion at the beginning in OrderedDict?"
   ]
  },
  {
   "cell_type": "code",
   "execution_count": 73,
   "metadata": {},
   "outputs": [
    {
     "name": "stdout",
     "output_type": "stream",
     "text": [
      "original ordered dictionary: OrderedDict([('one', 1), ('two', 2), ('three', 3)])\n",
      "ordered dictionary after inserting 'zero':'0' is: OrderedDict([('zero', '0'), ('one', 1), ('two', 2), ('three', 3)])\n"
     ]
    }
   ],
   "source": [
    "from collections import OrderedDict\n",
    "numbers = OrderedDict([(\"one\", 1), (\"two\", 2), (\"three\", 3)])\n",
    "print('original ordered dictionary: {}'.format(numbers))\n",
    "numbers.update({'zero':'0'})\n",
    "numbers.move_to_end('zero', last = False)\n",
    "print(\"ordered dictionary after inserting 'zero':'0' is: {}\".format(numbers))"
   ]
  },
  {
   "cell_type": "markdown",
   "metadata": {},
   "source": [
    "6. Write a Python program to check order of character in string using OrderedDict()?"
   ]
  },
  {
   "cell_type": "code",
   "execution_count": 89,
   "metadata": {},
   "outputs": [
    {
     "name": "stdout",
     "output_type": "stream",
     "text": [
      "The order of 'en' pattern in 'i am an engineer' string is not in same order\n"
     ]
    }
   ],
   "source": [
    "from collections import OrderedDict\n",
    "inp_str = 'i am an engineer'\n",
    "str_dict = OrderedDict.fromkeys(inp_str) \n",
    "ch_pattern = 'en'\n",
    "count = 0\n",
    "flag = False\n",
    "for key,value in str_dict.items():\n",
    "    if key == ch_pattern[count]:\n",
    "        count = count + 1\n",
    "    if count == len(ch_pattern):        \n",
    "        flag = True\n",
    "        break\n",
    "if flag == True:\n",
    "    print(\"The order of '{}' pattern in '{}' string is in same order\".format(ch_pattern,inp_str))\n",
    "else:\n",
    "    print(\"The order of '{}' pattern in '{}' string is not in same order\".format(ch_pattern,inp_str))"
   ]
  },
  {
   "cell_type": "markdown",
   "metadata": {},
   "source": [
    "7. Write a Python program to sort Python Dictionaries by Key or Value?"
   ]
  },
  {
   "cell_type": "code",
   "execution_count": 126,
   "metadata": {},
   "outputs": [
    {
     "name": "stdout",
     "output_type": "stream",
     "text": [
      "Original dictionary is {1: 11, 4: 99, 5: 8, 2: 2, 0: 1, 9: 13}\n",
      "dictionary sorted by key: \n",
      "[(0, 1), (1, 11), (2, 2), (4, 99), (5, 8), (9, 13)]\n",
      "\n",
      "dictionary sorted by value: \n",
      "[(0, 1), (2, 2), (5, 8), (1, 11), (9, 13), (4, 99)]\n"
     ]
    }
   ],
   "source": [
    "dict1 = {}\n",
    "dict1[1] = 11       \n",
    "dict1[4] = 99\n",
    "dict1[5] = 8 \n",
    "dict1[2] = 2\n",
    "dict1[0] = 1      \n",
    "dict1[9] = 13\n",
    "\n",
    "print(\"Original dictionary is {}\".format(dict1))\n",
    "print('dictionary sorted by key: ')\n",
    "print(sorted(dict2.items(), key=lambda x: x[0]))\n",
    "print('\\ndictionary sorted by value: ')\n",
    "print(sorted(dict1.items(), key=lambda x: x[1]))"
   ]
  },
  {
   "cell_type": "code",
   "execution_count": null,
   "metadata": {},
   "outputs": [],
   "source": []
  }
 ],
 "metadata": {
  "kernelspec": {
   "display_name": "Python 3",
   "language": "python",
   "name": "python3"
  },
  "language_info": {
   "codemirror_mode": {
    "name": "ipython",
    "version": 3
   },
   "file_extension": ".py",
   "mimetype": "text/x-python",
   "name": "python",
   "nbconvert_exporter": "python",
   "pygments_lexer": "ipython3",
   "version": "3.7.6"
  }
 },
 "nbformat": 4,
 "nbformat_minor": 4
}
