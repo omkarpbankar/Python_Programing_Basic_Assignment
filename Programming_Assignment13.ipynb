{
 "cells": [
  {
   "cell_type": "markdown",
   "metadata": {},
   "source": [
    "Question 1:\n",
    "Write a program that calculates and prints the value according to the given formula:\n",
    "Q = Square root of [(2 * C * D)/H]\n",
    "Following are the fixed values of C and H:\n",
    "C is 50. H is 30.\n",
    "D is the variable whose values should be input to your program in a comma-separated\n",
    "sequence.\n",
    "Example\n",
    "Let us assume the following comma separated input sequence is given to the program:\n",
    "100,150,180\n",
    "The output of the program should be:\n",
    "18,22,24"
   ]
  },
  {
   "cell_type": "code",
   "execution_count": 1,
   "metadata": {},
   "outputs": [
    {
     "name": "stdout",
     "output_type": "stream",
     "text": [
      "18.257418583505537,22.360679774997898,24.49489742783178\n"
     ]
    }
   ],
   "source": [
    "import math\n",
    "C = 50\n",
    "H = 30\n",
    "def question1(D):\n",
    "    Q = []\n",
    "    res = ''\n",
    "    D_list = D.split(',')\n",
    "    temp = 2*C/H\n",
    "    for i in D_list:\n",
    "        Q.append(str(math.sqrt(temp*int(i))))\n",
    "    res = \",\".join(Q)\n",
    "    return res\n",
    "print(question1(\"100,150,180\"))"
   ]
  },
  {
   "cell_type": "markdown",
   "metadata": {},
   "source": [
    "Question 2:\n",
    "Write a program which takes 2 digits, X,Y as input and generates a 2-dimensional array. The\n",
    "element value in the i-th row and j-th column of the array should be i*j.\n",
    "Note: i=0,1.., X-1; j=0,1,¡Y-1.\n",
    "Example\n",
    "Suppose the following inputs are given to the program:\n",
    "3,5\n",
    "Then, the output of the program should be:\n",
    "[[0, 0, 0, 0, 0], [0, 1, 2, 3, 4], [0, 2, 4, 6, 8]]"
   ]
  },
  {
   "cell_type": "code",
   "execution_count": 2,
   "metadata": {},
   "outputs": [
    {
     "name": "stdout",
     "output_type": "stream",
     "text": [
      "[[0, 0, 0, 0, 0], [0, 1, 2, 3, 4], [0, 2, 4, 6, 8]]\n"
     ]
    }
   ],
   "source": [
    "def question2(X,Y):\n",
    "    array = [[0 for i in range(Y)] for j in range(X)]\n",
    "    for i in range(X):\n",
    "        for j in range(Y):\n",
    "            array[i][j] = i*j\n",
    "    return array\n",
    "print(question2(3,5))"
   ]
  },
  {
   "cell_type": "markdown",
   "metadata": {},
   "source": [
    "Question 3:\n",
    "Write a program that accepts a comma separated sequence of words as input and prints the\n",
    "words in a comma-separated sequence after sorting them alphabetically.\n",
    "Suppose the following input is supplied to the program:\n",
    "without,hello,bag,world\n",
    "Then, the output should be:\n",
    "bag,hello,without,world"
   ]
  },
  {
   "cell_type": "code",
   "execution_count": 3,
   "metadata": {},
   "outputs": [
    {
     "name": "stdout",
     "output_type": "stream",
     "text": [
      "bag,hello,without,world\n"
     ]
    }
   ],
   "source": [
    "def question3(input_str):\n",
    "    input_str_list = input_str.split(',')\n",
    "    sorted_list = sorted(input_str_list)\n",
    "    sorted_string = \",\".join(sorted_list)\n",
    "    return sorted_string\n",
    "print(question3(\"without,hello,bag,world\"))"
   ]
  },
  {
   "cell_type": "markdown",
   "metadata": {},
   "source": [
    "Question 4:\n",
    "Write a program that accepts a sequence of whitespace separated words as input and prints\n",
    "the words after removing all duplicate words and sorting them alphanumerically.\n",
    "Suppose the following input is supplied to the program:\n",
    "hello world and practice makes perfect and hello world again\n",
    "Then, the output should be:\n",
    "again and hello makes perfect practice world"
   ]
  },
  {
   "cell_type": "code",
   "execution_count": 4,
   "metadata": {},
   "outputs": [
    {
     "name": "stdout",
     "output_type": "stream",
     "text": [
      "again and and hello hello makes perfect practice world world\n"
     ]
    }
   ],
   "source": [
    "def question4(input_str):\n",
    "    input_str_list = input_str.split(' ')\n",
    "    sorted_list = sorted(input_str_list,key = str)\n",
    "    sorted_string = \" \".join(sorted_list)\n",
    "    return sorted_string\n",
    "print(question4(\"hello world and practice makes perfect and hello world again\"))"
   ]
  },
  {
   "cell_type": "markdown",
   "metadata": {},
   "source": [
    "Question 5:\n",
    "Write a program that accepts a sentence and calculate the number of letters and digits.\n",
    "Suppose the following input is supplied to the program:\n",
    "hello world! 123\n",
    "Then, the output should be:\n",
    "LETTERS 10\n",
    "\n",
    "DIGITS 3"
   ]
  },
  {
   "cell_type": "code",
   "execution_count": 5,
   "metadata": {},
   "outputs": [
    {
     "name": "stdout",
     "output_type": "stream",
     "text": [
      "LETTERS 10\n",
      "DIGITS 3\n"
     ]
    }
   ],
   "source": [
    "import re\n",
    "def question5(input_str):\n",
    "    digit_count = 0\n",
    "    letter_count = 0\n",
    "    digit_pattern = re.compile('[0-9]')\n",
    "    letter_pattern = re.compile('[a-zA-Z]')\n",
    "    for i in input_str:\n",
    "        if digit_pattern.search(i):\n",
    "            digit_count+=1\n",
    "        elif letter_pattern.search(i):\n",
    "            letter_count+=1\n",
    "    print(\"LETTERS {}\\nDIGITS {}\".format(letter_count,digit_count))\n",
    "question5(\"hello world! 123\")"
   ]
  },
  {
   "cell_type": "markdown",
   "metadata": {},
   "source": [
    "Question 6:\n",
    "A website requires the users to input username and password to register. Write a program to\n",
    "check the validity of password input by users.\n",
    "Following are the criteria for checking the password:\n",
    "1. At least 1 letter between [a-z]\n",
    "2. At least 1 number between [0-9]\n",
    "1. At least 1 letter between [A-Z]\n",
    "3. At least 1 character from [$#@]\n",
    "4. Minimum length of transaction password: 6\n",
    "5. Maximum length of transaction password: 12\n",
    "Your program should accept a sequence of comma separated passwords and will check them\n",
    "according to the above criteria. Passwords that match the criteria are to be printed, each\n",
    "separated by a comma.\n",
    "Example\n",
    "If the following passwords are given as input to the program:\n",
    "ABd1234@1,a F1#,2w3E*,2We3345\n",
    "Then, the output of the program should be:\n",
    "ABd1234@1"
   ]
  },
  {
   "cell_type": "code",
   "execution_count": 31,
   "metadata": {},
   "outputs": [
    {
     "name": "stdout",
     "output_type": "stream",
     "text": [
      "ABd1234@1\n"
     ]
    }
   ],
   "source": [
    "def question6(input_str):\n",
    "    pattern1 = re.compile(\"[a-z]\")\n",
    "    pattern2 = re.compile(\"[0-9]\")\n",
    "    pattern3 = re.compile(\"[A-Z]\")\n",
    "    pattern4 = re.compile(\"[$#@]\")\n",
    "    input_str_list = input_str.split(',')\n",
    "    res_pswd_list = []\n",
    "    for i in input_str_list:\n",
    "        if pattern1.search(i) is not None and \\\n",
    "            pattern2.search(i) is not None and \\\n",
    "            pattern3.search(i) is not None and \\\n",
    "            pattern4.search(i) is not None and \\\n",
    "               len(i) >=6 and len(i) <=12:\n",
    "                    res_pswd_list.append(i)\n",
    "    res_pswd_list = \",\".join(res_pswd_list)\n",
    "    return res_pswd_list\n",
    "print(question6(\"ABd1234@1,a F1#,2w3E*,2We3345\"))"
   ]
  },
  {
   "cell_type": "code",
   "execution_count": null,
   "metadata": {},
   "outputs": [],
   "source": []
  }
 ],
 "metadata": {
  "kernelspec": {
   "display_name": "Python 3",
   "language": "python",
   "name": "python3"
  },
  "language_info": {
   "codemirror_mode": {
    "name": "ipython",
    "version": 3
   },
   "file_extension": ".py",
   "mimetype": "text/x-python",
   "name": "python",
   "nbconvert_exporter": "python",
   "pygments_lexer": "ipython3",
   "version": "3.8.12"
  }
 },
 "nbformat": 4,
 "nbformat_minor": 4
}
