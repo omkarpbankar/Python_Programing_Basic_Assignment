{
 "cells": [
  {
   "cell_type": "markdown",
   "metadata": {},
   "source": [
    "Question 1:\n",
    "Define a class with a generator which can iterate the numbers, which are divisible by\n",
    "7, between a given range 0 and n."
   ]
  },
  {
   "cell_type": "code",
   "execution_count": 28,
   "metadata": {},
   "outputs": [
    {
     "name": "stdout",
     "output_type": "stream",
     "text": [
      "Please enter a number: 50\n",
      "0\n",
      "7\n",
      "14\n",
      "21\n",
      "28\n",
      "35\n",
      "42\n",
      "49\n"
     ]
    }
   ],
   "source": [
    "class Divby7_gen:\n",
    "    def __init__(self):\n",
    "        n = int(input('Please enter a number: '))\n",
    "        self.n = n\n",
    "        \n",
    "    def divby7_fun(self):\n",
    "        for i in range(0,self.n):\n",
    "            if i%7 == 0:\n",
    "                yield i\n",
    "                \n",
    "divby7_obj = Divby7_gen()\n",
    "table_7 = divby7_obj.divby7_fun()\n",
    "\n",
    "for num in table_7:\n",
    "    print(num)"
   ]
  },
  {
   "cell_type": "markdown",
   "metadata": {},
   "source": [
    "Question 2:\n",
    "Write a program to compute the frequency of the words from the input. The output\n",
    "should output after sorting the key alphanumerically."
   ]
  },
  {
   "cell_type": "code",
   "execution_count": 37,
   "metadata": {},
   "outputs": [
    {
     "name": "stdout",
     "output_type": "stream",
     "text": [
      "Eneter a paragraph: New to Python or choosing between Python 2 and Python 3? Read Python 2 or Python 3.\n",
      "['2', '3.', '3?', 'New', 'Python', 'Read', 'and', 'between', 'choosing', 'or', 'to']\n",
      "{'2': 2, '3.': 1, '3?': 1, 'New': 1, 'Python': 5, 'Read': 1, 'and': 1, 'between': 1, 'choosing': 1, 'or': 2, 'to': 1}\n"
     ]
    }
   ],
   "source": [
    "class SortWord:\n",
    "    def __init__(self):\n",
    "        paragraph = input('Eneter a paragraph: ')\n",
    "        self.para = paragraph.split()\n",
    "        self.uniqueList = list(set(self.para))\n",
    "        self.sorted_unique_para = sorted(self.uniqueList, key = str)\n",
    "        self.countDict = {}\n",
    "        print(self.sorted_unique_para)\n",
    "    \n",
    "    def sorted_word_list(self):        \n",
    "        for word in self.sorted_unique_para:\n",
    "            self.countDict[word] = self.para.count(word)\n",
    "        return self.countDict\n",
    "            \n",
    "obj = SortWord()\n",
    "print(obj.sorted_word_list())"
   ]
  },
  {
   "cell_type": "markdown",
   "metadata": {},
   "source": [
    "Question 3:\n",
    "Define a class Person and its two child classes: Male and Female. All classes have a\n",
    "method &quot;getGender&quot; which can print &quot;Male&quot; for Male class and &quot;Female&quot; for Female\n",
    "class."
   ]
  },
  {
   "cell_type": "code",
   "execution_count": 42,
   "metadata": {},
   "outputs": [
    {
     "name": "stdout",
     "output_type": "stream",
     "text": [
      "Male\n",
      "Female\n",
      "--\n"
     ]
    }
   ],
   "source": [
    "class Person:\n",
    "    def __init__(self):\n",
    "        pass\n",
    "    def getGender(self):\n",
    "        print('--')\n",
    "class Male(Person):\n",
    "    def __init__(self):\n",
    "        pass\n",
    "    def getGender(self):\n",
    "        print('Male')\n",
    "class Female(Person):\n",
    "    def __init__(self):\n",
    "        pass\n",
    "    def getGender(self):\n",
    "        print('Female')\n",
    "        \n",
    "maleObj = Male()\n",
    "maleObj.getGender()\n",
    "femaleObj = Female()\n",
    "femaleObj.getGender()\n",
    "personObj = Person()\n",
    "personObj.getGender()"
   ]
  },
  {
   "cell_type": "markdown",
   "metadata": {},
   "source": [
    "Question 4:\n",
    "Please write a program to generate all sentences where subject is in [&quot;I&quot;, &quot;You&quot;] and\n",
    "verb is in [&quot;Play&quot;, &quot;Love&quot;] and the object is in [&quot;Hockey&quot;,&quot;Football&quot;]."
   ]
  },
  {
   "cell_type": "code",
   "execution_count": 49,
   "metadata": {},
   "outputs": [
    {
     "name": "stdout",
     "output_type": "stream",
     "text": [
      "I Play Hockey.\n",
      "I Play Football.\n",
      "I Love Hockey.\n",
      "I Love Football.\n",
      "You Play Hockey.\n",
      "You Play Football.\n",
      "You Love Hockey.\n",
      "You Love Football.\n"
     ]
    }
   ],
   "source": [
    "class Senetence:\n",
    "    def __init__(self):\n",
    "        self.subject = [\"I\", \"You\"]\n",
    "        self.verb = [\"Play\", \"Love\"]\n",
    "        self.object = [\"Hockey\",\"Football\"]\n",
    "    def genSentence(self):\n",
    "        for i in self.subject:\n",
    "            for j in self.verb:\n",
    "                for k in self.object:\n",
    "                    yield (\"%s %s %s.\" %(i,j,k))\n",
    "                    \n",
    "sentenceObj = Senetence()\n",
    "sentences = sentenceObj.genSentence()\n",
    "for sentence in sentences:\n",
    "    print(sentence)"
   ]
  },
  {
   "cell_type": "markdown",
   "metadata": {},
   "source": [
    "Question 5:\n",
    "Please write a program to compress and decompress the string &quot;hello world!hello\n",
    "world!hello world!hello world!&quot;."
   ]
  },
  {
   "cell_type": "code",
   "execution_count": 54,
   "metadata": {},
   "outputs": [
    {
     "name": "stdout",
     "output_type": "stream",
     "text": [
      "b'x\\x9c\\xcbH\\xcd\\xc9\\xc9W(\\xcf/\\xcaIQ\\xcc \\x82\\r\\x00\\xbd[\\x11\\xf5'\n",
      "b'hello world!hello world!hello world!hello world!'\n"
     ]
    }
   ],
   "source": [
    "import zlib\n",
    "string = b\"hello world!hello world!hello world!hello world!\"\n",
    "compressed_String = zlib.compress(string)\n",
    "print(compressed_String)\n",
    "decompressed_String = zlib.decompress(compressed_String)\n",
    "print(decompressed_String)"
   ]
  },
  {
   "cell_type": "markdown",
   "metadata": {},
   "source": [
    "Question 6:\n",
    "Please write a binary search function which searches an item in a sorted list. The\n",
    "function should return the index of element to be searched in the list."
   ]
  },
  {
   "cell_type": "code",
   "execution_count": 69,
   "metadata": {},
   "outputs": [
    {
     "name": "stdout",
     "output_type": "stream",
     "text": [
      "Element is present at index 4\n"
     ]
    }
   ],
   "source": [
    "class BinarySearch:\n",
    "    def __init__(self):\n",
    "        self.array = [ 5, 10, 15, 20, 25 ]\n",
    "        self.minId = 0\n",
    "        self.maxId = len(self.array)-1\n",
    "        \n",
    "    def binary_search(self,x):\n",
    "        # Check base case\n",
    "        if self.maxId >= self.minId:\n",
    "\n",
    "            mid = (self.maxId + self.minId) // 2\n",
    "\n",
    "            # If element is present at the middle itself\n",
    "            if self.array[mid] == x:\n",
    "                return mid\n",
    "\n",
    "            # If element is smaller than mid, then it can only\n",
    "            # be present in left subarray\n",
    "            elif self.array[mid] > x:\n",
    "                self.maxId = mid - 1\n",
    "                return self.binary_search(x)\n",
    "\n",
    "            # Else the element can only be present in right subarray\n",
    "            else:\n",
    "                self.minId = mid + 1\n",
    "                return self.binary_search(x)\n",
    "\n",
    "        else:\n",
    "            # Element is not present in the array\n",
    "            return -1\n",
    "        \n",
    "binarySerach_obj = BinarySearch()\n",
    "# Function call\n",
    "item = 25\n",
    "result = binarySerach_obj.binary_search(item)\n",
    " \n",
    "if result != -1:\n",
    "    print(\"Element is present at index\", str(result))\n",
    "else:\n",
    "    print(\"Element is not present in array\")"
   ]
  },
  {
   "cell_type": "code",
   "execution_count": null,
   "metadata": {},
   "outputs": [],
   "source": []
  }
 ],
 "metadata": {
  "kernelspec": {
   "display_name": "Python 3",
   "language": "python",
   "name": "python3"
  },
  "language_info": {
   "codemirror_mode": {
    "name": "ipython",
    "version": 3
   },
   "file_extension": ".py",
   "mimetype": "text/x-python",
   "name": "python",
   "nbconvert_exporter": "python",
   "pygments_lexer": "ipython3",
   "version": "3.7.6"
  }
 },
 "nbformat": 4,
 "nbformat_minor": 4
}
