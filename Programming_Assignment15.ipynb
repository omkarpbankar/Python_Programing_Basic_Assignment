{
 "cells": [
  {
   "cell_type": "markdown",
   "metadata": {},
   "source": [
    "Question 1:\n",
    "Please write a program using generator to print the numbers which can be divisible by 5 and\n",
    "7 between 0 and n in comma separated form while n is input by console."
   ]
  },
  {
   "cell_type": "code",
   "execution_count": 26,
   "metadata": {},
   "outputs": [
    {
     "name": "stdout",
     "output_type": "stream",
     "text": [
      "Please enter a number: 106\n",
      "0,35,70,105\n"
     ]
    }
   ],
   "source": [
    "class Divby5_7_gen:\n",
    "    def __init__(self):\n",
    "        n = int(input('Please enter a number: '))\n",
    "        self.n = n\n",
    "        \n",
    "    def divby5_7_fun(self):\n",
    "        for i in range(0,self.n):\n",
    "            if i%7 == 0 and i%5 == 0:\n",
    "                if self.n - i > 35:\n",
    "                    yield False, i\n",
    "                else:\n",
    "                    yield True, i   # last element from the generator                   \n",
    "                \n",
    "divby5_7_obj = Divby5_7_gen()\n",
    "table5_7 = divby5_7_obj.divby5_7_fun()\n",
    "\n",
    "for last_item, num in table5_7:\n",
    "    if last_item:\n",
    "        print(num)\n",
    "    else:\n",
    "        print(num,end=',')\n"
   ]
  },
  {
   "cell_type": "markdown",
   "metadata": {},
   "source": [
    "Question 2:\n",
    "Please write a program using generator to print the even numbers between 0 and n in comma\n",
    "separated form while n is input by console."
   ]
  },
  {
   "cell_type": "code",
   "execution_count": 29,
   "metadata": {},
   "outputs": [
    {
     "name": "stdout",
     "output_type": "stream",
     "text": [
      "Please enter a number: 10\n",
      "0,2,4,6,8,10\n"
     ]
    }
   ],
   "source": [
    "class EvenNo_gen:\n",
    "    def __init__(self):\n",
    "        n = int(input('Please enter a number: '))\n",
    "        self.n = n+1\n",
    "        \n",
    "    def evenno_fun(self):\n",
    "        for i in range(0,self.n):\n",
    "            if i%2 == 0:\n",
    "                if self.n - i > 2:\n",
    "                    yield False, i\n",
    "                else:\n",
    "                    yield True, i   # last element from the generator                   \n",
    "                \n",
    "evenno_obj = EvenNo_gen()\n",
    "table_even = evenno_obj.evenno_fun()\n",
    "\n",
    "for last_item, num in table_even:\n",
    "    if last_item:\n",
    "        print(num)\n",
    "    else:\n",
    "        print(num,end=',')"
   ]
  },
  {
   "cell_type": "markdown",
   "metadata": {},
   "source": [
    "Question 3:\n",
    "The Fibonacci Sequence is computed based on the following formula:\n",
    "f(n)=0 if n=0\n",
    "f(n)=1 if n=1\n",
    "f(n)=f(n-1)+f(n-2) if n&gt;1\n",
    "Please write a program using list comprehension to print the Fibonacci Sequence in comma\n",
    "separated form with a given n input by console."
   ]
  },
  {
   "cell_type": "code",
   "execution_count": 55,
   "metadata": {},
   "outputs": [
    {
     "name": "stdout",
     "output_type": "stream",
     "text": [
      "Please enter a number: 7\n",
      "0,1,1,2,3,5,8\n"
     ]
    }
   ],
   "source": [
    "class Fibbonacci:\n",
    "    def __init__(self):\n",
    "        pass\n",
    "        \n",
    "    def fib(self,term):\n",
    "        if term <= 1:\n",
    "            return (term)\n",
    "        else:\n",
    "            return (self.fib(term-1) + self.fib(term-2))\n",
    "\n",
    "n = int(input('Please enter a number: '))   \n",
    "fibbonacci_obj = Fibbonacci()\n",
    "my_list = [str(fibbonacci_obj.fib(i)) for i in range(n)]\n",
    "my_list = ','.join(my_list)\n",
    "print(my_list)"
   ]
  },
  {
   "cell_type": "markdown",
   "metadata": {},
   "source": [
    "Question 4:\n",
    "Assuming that we have some email addresses in the &quot;username@companyname.com&quot; format,\n",
    "please write program to print the user name of a given email address. Both user names and\n",
    "company names are composed of letters only.\n",
    "Example:\n",
    "If the following email address is given as input to the program:\n",
    "john@google.com\n",
    "Then, the output of the program should be:\n",
    "john"
   ]
  },
  {
   "cell_type": "code",
   "execution_count": 5,
   "metadata": {},
   "outputs": [
    {
     "name": "stdout",
     "output_type": "stream",
     "text": [
      "enter the email id: john@google.com\n",
      "user name is:  john\n"
     ]
    }
   ],
   "source": [
    "class Username:\n",
    "    def __init__(self):\n",
    "        self.email = input('enter the email id: ')\n",
    "    \n",
    "    def get_username(self):\n",
    "        username = self.email.split('@')[0]\n",
    "        return username\n",
    "        \n",
    "username_obj = Username()\n",
    "print('user name is: ',username_obj.get_username())"
   ]
  },
  {
   "cell_type": "markdown",
   "metadata": {},
   "source": [
    "Question 5:\n",
    "Define a class named Shape and its subclass Square. The Square class has an init function\n",
    "which takes a length as argument. Both classes have a area function which can print the area\n",
    "of the shape where Shape&#39;s area is 0 by default."
   ]
  },
  {
   "cell_type": "code",
   "execution_count": 13,
   "metadata": {},
   "outputs": [
    {
     "name": "stdout",
     "output_type": "stream",
     "text": [
      "area by Shape class:  0\n",
      "Please enter length of Square: 10\n",
      "area by Square class:  100\n"
     ]
    }
   ],
   "source": [
    "class Shape():\n",
    "    def __init__(self):\n",
    "        self.shape_area = 0\n",
    "        \n",
    "    def area(self):\n",
    "        print('area by Shape class: ',self.shape_area)\n",
    "    \n",
    "class Square(Shape):\n",
    "    def __init__(self):\n",
    "        self.length = int(input('Please enter length of Square: '))\n",
    "    \n",
    "    def area(self):\n",
    "        self.shape_area = self.length**2\n",
    "        print('area by Square class: ',self.shape_area)\n",
    "        \n",
    "shape_obj = Shape()\n",
    "shape_obj.area()\n",
    "\n",
    "square_obj = Square()\n",
    "square_obj.area() \n",
    " "
   ]
  },
  {
   "cell_type": "code",
   "execution_count": null,
   "metadata": {},
   "outputs": [],
   "source": []
  }
 ],
 "metadata": {
  "kernelspec": {
   "display_name": "Python 3",
   "language": "python",
   "name": "python3"
  },
  "language_info": {
   "codemirror_mode": {
    "name": "ipython",
    "version": 3
   },
   "file_extension": ".py",
   "mimetype": "text/x-python",
   "name": "python",
   "nbconvert_exporter": "python",
   "pygments_lexer": "ipython3",
   "version": "3.7.6"
  }
 },
 "nbformat": 4,
 "nbformat_minor": 4
}
