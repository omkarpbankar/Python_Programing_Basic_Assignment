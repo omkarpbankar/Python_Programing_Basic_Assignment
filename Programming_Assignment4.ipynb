{
 "cells": [
  {
   "cell_type": "markdown",
   "metadata": {},
   "source": [
    "1. Write a Python Program to Find the Factorial of a Number?"
   ]
  },
  {
   "cell_type": "code",
   "execution_count": 7,
   "metadata": {},
   "outputs": [
    {
     "name": "stdout",
     "output_type": "stream",
     "text": [
      "enter a number: 4\n",
      "factorial is 24\n"
     ]
    }
   ],
   "source": [
    "number = int(input('enter a number: '))\n",
    "factorial = 1\n",
    "if number < 0:\n",
    "    print('factorial can not be determined for a negative number')\n",
    "elif number == 0:\n",
    "    print('factorial is {}'.format(factorial))\n",
    "else:\n",
    "    for num in range(1,number+1):\n",
    "        factorial = factorial*num\n",
    "    print('factorial is {}'.format(factorial))"
   ]
  },
  {
   "cell_type": "markdown",
   "metadata": {},
   "source": [
    "2. Write a Python Program to Display the multiplication Table?"
   ]
  },
  {
   "cell_type": "code",
   "execution_count": 10,
   "metadata": {},
   "outputs": [
    {
     "name": "stdout",
     "output_type": "stream",
     "text": [
      "enter a number: 7\n",
      "7 * 1 = 7\n",
      "7 * 2 = 14\n",
      "7 * 3 = 21\n",
      "7 * 4 = 28\n",
      "7 * 5 = 35\n",
      "7 * 6 = 42\n",
      "7 * 7 = 49\n",
      "7 * 8 = 56\n",
      "7 * 9 = 63\n",
      "7 * 10 = 70\n"
     ]
    }
   ],
   "source": [
    "number = int(input('enter a number: '))\n",
    "for i in range(1,11):\n",
    "    print('{} * {} = {}'.format(number,i,i*number))"
   ]
  },
  {
   "cell_type": "markdown",
   "metadata": {},
   "source": [
    "3. Write a Python Program to Print the Fibonacci sequence?"
   ]
  },
  {
   "cell_type": "code",
   "execution_count": 7,
   "metadata": {},
   "outputs": [
    {
     "name": "stdout",
     "output_type": "stream",
     "text": [
      "enter a positive number: 4\n",
      "0\n",
      "1\n",
      "1\n",
      "2\n",
      "3\n"
     ]
    }
   ],
   "source": [
    "number = int(input('enter a positive number: '))\n",
    "first = 0\n",
    "second = 1\n",
    "sum = 0\n",
    "pos = 0\n",
    "if number < 1:\n",
    "    print('can not find a Fibonacci sequence')\n",
    "elif number == 1:\n",
    "    print(first)\n",
    "else:\n",
    "    while pos <= number:\n",
    "        print(first)\n",
    "        sum = first + second\n",
    "        first = second\n",
    "        second = sum\n",
    "        pos = pos + 1\n",
    "    "
   ]
  },
  {
   "cell_type": "markdown",
   "metadata": {},
   "source": [
    "4. Write a Python Program to Check Armstrong Number?"
   ]
  },
  {
   "cell_type": "code",
   "execution_count": 8,
   "metadata": {},
   "outputs": [
    {
     "name": "stdout",
     "output_type": "stream",
     "text": [
      "Enter a number: 153\n",
      "153 is an Armstrong number\n"
     ]
    }
   ],
   "source": [
    "number = int(input(\"Enter a number: \"))\n",
    "sum = 0\n",
    "# find the sum of the cube of each digit\n",
    "temp = number\n",
    "while temp > 0:\n",
    "   digit = temp % 10\n",
    "   sum += digit ** 3\n",
    "   temp //= 10\n",
    "\n",
    "if number == sum:\n",
    "   print(number,\"is an Armstrong number\")\n",
    "else:\n",
    "   print(number,\"is not an Armstrong number\")"
   ]
  },
  {
   "cell_type": "markdown",
   "metadata": {},
   "source": [
    "5. Write a Python Program to Find Armstrong Number in an Interval?"
   ]
  },
  {
   "cell_type": "code",
   "execution_count": 19,
   "metadata": {},
   "outputs": [
    {
     "name": "stdout",
     "output_type": "stream",
     "text": [
      "Enter upper and lower range of the interval: 10 1000\n",
      "list of Armstrong numbers is: [153, 370, 371, 407]\n"
     ]
    }
   ],
   "source": [
    "lower, upper = input(\"Enter upper and lower range of the interval: \").split()\n",
    "armstronList = []\n",
    "for number in range(int(lower),int(upper)):\n",
    "    sum = 0\n",
    "    # find the sum of the cube of each digit\n",
    "    temp = number\n",
    "    while temp > 0:\n",
    "       digit = temp % 10\n",
    "       sum += digit ** 3\n",
    "       temp //= 10\n",
    "\n",
    "    if number == sum:\n",
    "       armstronList.append(number)\n",
    "if len(armstronList) > 0:\n",
    "    print('list of Armstrong numbers is: {}'.format(armstronList))\n",
    "else:\n",
    "    print('There is no armstrong number found')"
   ]
  },
  {
   "cell_type": "markdown",
   "metadata": {},
   "source": [
    "6. Write a Python Program to Find the Sum of Natural Numbers?"
   ]
  },
  {
   "cell_type": "code",
   "execution_count": 5,
   "metadata": {},
   "outputs": [
    {
     "name": "stdout",
     "output_type": "stream",
     "text": [
      "Enter a positive number: 20\n",
      "sum of 20 natural number is: 210\n"
     ]
    }
   ],
   "source": [
    "number = int(input('Enter a positive number: '))\n",
    "numbers = number\n",
    "sum = 0\n",
    "if number < 0:\n",
    "    print('Please eneter a positive number only')\n",
    "else:\n",
    "    while(number > 0):\n",
    "        sum = sum + number\n",
    "        number = number - 1\n",
    "    print('sum of {} natural number is: {}'.format(numbers,sum))"
   ]
  },
  {
   "cell_type": "code",
   "execution_count": null,
   "metadata": {},
   "outputs": [],
   "source": []
  }
 ],
 "metadata": {
  "kernelspec": {
   "display_name": "Python 3",
   "language": "python",
   "name": "python3"
  },
  "language_info": {
   "codemirror_mode": {
    "name": "ipython",
    "version": 3
   },
   "file_extension": ".py",
   "mimetype": "text/x-python",
   "name": "python",
   "nbconvert_exporter": "python",
   "pygments_lexer": "ipython3",
   "version": "3.8.12"
  }
 },
 "nbformat": 4,
 "nbformat_minor": 4
}
