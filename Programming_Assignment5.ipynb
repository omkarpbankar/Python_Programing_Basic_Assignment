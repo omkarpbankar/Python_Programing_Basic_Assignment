{
 "cells": [
  {
   "cell_type": "markdown",
   "metadata": {},
   "source": [
    "1. Write a Python Program to Find LCM?"
   ]
  },
  {
   "cell_type": "code",
   "execution_count": 1,
   "metadata": {},
   "outputs": [
    {
     "name": "stdout",
     "output_type": "stream",
     "text": [
      "enter 2 numbers to calculate LCM 10 12\n",
      "LCM of two numbers is 60: \n"
     ]
    }
   ],
   "source": [
    "num1, num2 = input('enter 2 numbers to calculate LCM ').split()\n",
    "num1 = int(num1)\n",
    "num2 = int(num2)\n",
    "for i in range(1,num1*num2+1):\n",
    "    if i % num1 == 0 and i % num2 == 0:\n",
    "        print('LCM of two numbers is {}: '.format(i))\n",
    "        break"
   ]
  },
  {
   "cell_type": "markdown",
   "metadata": {},
   "source": [
    "2. Write a Python Program to Find HCF?"
   ]
  },
  {
   "cell_type": "code",
   "execution_count": 2,
   "metadata": {},
   "outputs": [
    {
     "name": "stdout",
     "output_type": "stream",
     "text": [
      "enter 2 numbers to calculate HCF 10 12\n",
      "HCF of two numbers is 2: \n"
     ]
    }
   ],
   "source": [
    "num1, num2 = input('enter 2 numbers to calculate HCF ').split()\n",
    "num1 = int(num1)\n",
    "num2 = int(num2)\n",
    "\n",
    "while(num1%num2 != 0):\n",
    "    rem = num1%num2\n",
    "    num1 = num2\n",
    "    num2 = rem\n",
    "print('HCF of two numbers is {}: '.format(num2))"
   ]
  },
  {
   "cell_type": "markdown",
   "metadata": {},
   "source": [
    "3. Write a Python Program to Convert Decimal to Binary, Octal and Hexadecimal?"
   ]
  },
  {
   "cell_type": "code",
   "execution_count": 3,
   "metadata": {},
   "outputs": [
    {
     "name": "stdout",
     "output_type": "stream",
     "text": [
      "Enter a decimal value: 10\n",
      "Convert into: [1] Binary, [2] Octal [3] Hexadecimal: 1\n",
      "Converted to Binary:  0b1010\n"
     ]
    }
   ],
   "source": [
    "decimal = int(input('Enter a decimal value: '))\n",
    "option = int(input('Convert into: [1] Binary, [2] Octal [3] Hexadecimal: '))\n",
    "\n",
    "if option == 1:\n",
    "    print('Converted to Binary: ', bin(decimal))\n",
    "elif option == 2:\n",
    "    print('Converted to Octal: ', oct(decimal))\n",
    "elif option == 3:\n",
    "    print('Converted to Hexadecimal: ', hex(decimal))\n",
    "else:\n",
    "    print('Please review your input')"
   ]
  },
  {
   "cell_type": "markdown",
   "metadata": {},
   "source": [
    "4. Write a Python Program To Find ASCII value of a character?"
   ]
  },
  {
   "cell_type": "code",
   "execution_count": 4,
   "metadata": {},
   "outputs": [
    {
     "name": "stdout",
     "output_type": "stream",
     "text": [
      "Please enter a character here: F\n",
      "The ascii value of F is 70\n"
     ]
    }
   ],
   "source": [
    "ch  = input('Please enter a character here: ')\n",
    "print('The ascii value of {} is {}'.format(ch,ord(ch)))"
   ]
  },
  {
   "cell_type": "markdown",
   "metadata": {},
   "source": [
    "5. Write a Python Program to Make a Simple Calculator with 4 basic mathematical operations?"
   ]
  },
  {
   "cell_type": "code",
   "execution_count": 6,
   "metadata": {},
   "outputs": [
    {
     "name": "stdout",
     "output_type": "stream",
     "text": [
      "select operation: 1: Add 2: Substract 3: Multiply 4: Divide\n",
      "enter your selection: 1\n",
      "enter two numbers: 10 12\n",
      "10 + 12 = 22\n"
     ]
    }
   ],
   "source": [
    "def add(x,y):\n",
    "    return x+y\n",
    "def substract(x,y):\n",
    "    return x-y\n",
    "def multiply(x,y):\n",
    "    return x*y\n",
    "def devide(x,y):\n",
    "    return x/y\n",
    "\n",
    "# Take input from user\n",
    "print(\"select operation: 1: Add 2: Substract 3: Multiply 4: Divide\")\n",
    "selection = int(input('enter your selection: '))\n",
    "\n",
    "num1,num2 = input('enter two numbers: ').split()\n",
    "num1,num2 = int(num1),int(num2)\n",
    "\n",
    "if selection == 1:\n",
    "    print(num1, '+', num2, '=' ,add(num1,num2))\n",
    "elif selection == 2:\n",
    "    print(num1, '-', num2, '='  ,substract(num1,num2))\n",
    "elif selection == 3:\n",
    "    print(num1, 'x', num2, '='  ,multiply(num1,num2))\n",
    "elif selection == 4:\n",
    "    print(num1, '/', num2, '='  ,devide(num1,num2))\n",
    "else:\n",
    "    print('invalid selection')"
   ]
  },
  {
   "cell_type": "code",
   "execution_count": null,
   "metadata": {},
   "outputs": [],
   "source": []
  }
 ],
 "metadata": {
  "kernelspec": {
   "display_name": "Python 3",
   "language": "python",
   "name": "python3"
  },
  "language_info": {
   "codemirror_mode": {
    "name": "ipython",
    "version": 3
   },
   "file_extension": ".py",
   "mimetype": "text/x-python",
   "name": "python",
   "nbconvert_exporter": "python",
   "pygments_lexer": "ipython3",
   "version": "3.7.6"
  }
 },
 "nbformat": 4,
 "nbformat_minor": 4
}
