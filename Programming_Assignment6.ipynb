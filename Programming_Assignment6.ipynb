{
 "cells": [
  {
   "cell_type": "markdown",
   "metadata": {},
   "source": [
    "1. Write a Python Program to Display Fibonacci Sequence Using Recursion?"
   ]
  },
  {
   "cell_type": "code",
   "execution_count": 1,
   "metadata": {},
   "outputs": [
    {
     "name": "stdout",
     "output_type": "stream",
     "text": [
      "enter a positive number: 10\n",
      "0 : 0\n",
      "1 : 1\n",
      "2 : 1\n",
      "3 : 2\n",
      "4 : 3\n",
      "5 : 5\n",
      "6 : 8\n",
      "7 : 13\n",
      "8 : 21\n",
      "9 : 34\n"
     ]
    }
   ],
   "source": [
    "fibonacci_list = {}\n",
    "def generateFibonacci(number):\n",
    "    # if the value is already stored in the list then just extract from the dictionary and return the value\n",
    "    if number in fibonacci_list:\n",
    "        return fibonacci_list[number]\n",
    "    # compute the number-th value\n",
    "    if number <= 1:\n",
    "        val = number\n",
    "    else:\n",
    "        val = (generateFibonacci(number-1) + generateFibonacci(number-2)) \n",
    "    \n",
    "    # store the value in the list and then return\n",
    "    fibonacci_list[number] = val\n",
    "    return val\n",
    "\n",
    "number = int(input('enter a positive number: '))    \n",
    "if number <= 0:\n",
    "    print('can not find a Fibonacci sequence')\n",
    "else:\n",
    "    for i in range(number):\n",
    "        print(i, \":\" ,generateFibonacci(i))"
   ]
  },
  {
   "cell_type": "markdown",
   "metadata": {},
   "source": [
    "2. Write a Python Program to Find Factorial of Number Using Recursion"
   ]
  },
  {
   "cell_type": "code",
   "execution_count": 2,
   "metadata": {},
   "outputs": [
    {
     "name": "stdout",
     "output_type": "stream",
     "text": [
      "enter a positive number: 10\n",
      "The factorial of 10 is 3628800\n"
     ]
    }
   ],
   "source": [
    "def factorial(number):\n",
    "   if number == 1:\n",
    "       return number\n",
    "   else:\n",
    "       return number * factorial(number-1)\n",
    "\n",
    "num = int(input('enter a positive number: ')) \n",
    "\n",
    "if num < 0:\n",
    "   print(\"factorial can not be calculated for negative numbers\")\n",
    "elif num == 0:\n",
    "   print(\"The factorial of 0 is 1\")\n",
    "else:\n",
    "   print(\"The factorial of\", num, \"is\", factorial(num))"
   ]
  },
  {
   "cell_type": "markdown",
   "metadata": {},
   "source": [
    "3. Write a Python Program to calculate your Body Mass Index?"
   ]
  },
  {
   "cell_type": "code",
   "execution_count": 3,
   "metadata": {},
   "outputs": [
    {
     "name": "stdout",
     "output_type": "stream",
     "text": [
      "please enter your weight in kg: 72\n",
      "please enter your height in meter: 1.69\n",
      "your bmi is: 25.209201358495854\n"
     ]
    }
   ],
   "source": [
    "def calc_bmi(height, weight):\n",
    "    return(weight/(height**2))\n",
    "\n",
    "weight = float(input('please enter your weight in kg: '))\n",
    "height = float(input('please enter your height in meter: '))\n",
    "print('your bmi is: {}'.format(calc_bmi(height, weight)))"
   ]
  },
  {
   "cell_type": "markdown",
   "metadata": {},
   "source": [
    "4. Write a Python Program to calculate the natural logarithm of any number?"
   ]
  },
  {
   "cell_type": "code",
   "execution_count": 4,
   "metadata": {},
   "outputs": [
    {
     "name": "stdout",
     "output_type": "stream",
     "text": [
      "please enter a number: 6\n",
      "log of 6.0 is 1.791759469228055: \n"
     ]
    }
   ],
   "source": [
    "import math\n",
    "number = float(input('please enter a number: '))\n",
    "print (\"log of {} is {}: \".format(number,math.log(number)))"
   ]
  },
  {
   "cell_type": "markdown",
   "metadata": {},
   "source": [
    "5. Write a Python Program for cube sum of first n natural numbers?"
   ]
  },
  {
   "cell_type": "code",
   "execution_count": 6,
   "metadata": {},
   "outputs": [
    {
     "name": "stdout",
     "output_type": "stream",
     "text": [
      "please enter a integer number: 10\n",
      "cube sum of first 10 natural numbers is 3025. \n"
     ]
    }
   ],
   "source": [
    "number = int(input('please enter a integer number: '))\n",
    "\n",
    "def findSumOfCubes(number):\n",
    "    sum = number* (number+1)/2\n",
    "    return int(sum**2)\n",
    "print (\"cube sum of first {} natural numbers is {}. \".format(number,findSumOfCubes(number)))"
   ]
  },
  {
   "cell_type": "code",
   "execution_count": null,
   "metadata": {},
   "outputs": [],
   "source": []
  }
 ],
 "metadata": {
  "kernelspec": {
   "display_name": "Python 3",
   "language": "python",
   "name": "python3"
  },
  "language_info": {
   "codemirror_mode": {
    "name": "ipython",
    "version": 3
   },
   "file_extension": ".py",
   "mimetype": "text/x-python",
   "name": "python",
   "nbconvert_exporter": "python",
   "pygments_lexer": "ipython3",
   "version": "3.8.12"
  }
 },
 "nbformat": 4,
 "nbformat_minor": 4
}
