{
 "cells": [
  {
   "cell_type": "markdown",
   "metadata": {},
   "source": [
    "1. Write a Python Program to find sum of array?"
   ]
  },
  {
   "cell_type": "code",
   "execution_count": 9,
   "metadata": {},
   "outputs": [
    {
     "name": "stdout",
     "output_type": "stream",
     "text": [
      "21\n"
     ]
    }
   ],
   "source": [
    "sample_list = [1,2,3,4,5,6]\n",
    "sum = 0\n",
    "for i in sample_list:\n",
    "    sum = sum + i\n",
    "print(sum)"
   ]
  },
  {
   "cell_type": "markdown",
   "metadata": {},
   "source": [
    "2. Write a Python Program to find largest element in an array?"
   ]
  },
  {
   "cell_type": "code",
   "execution_count": 13,
   "metadata": {},
   "outputs": [
    {
     "name": "stdout",
     "output_type": "stream",
     "text": [
      "7\n"
     ]
    }
   ],
   "source": [
    "sample_list = [1,2,3,7,6]\n",
    "max = sample_list[0]\n",
    "for i in sample_list:\n",
    "    if max < i:\n",
    "        max = i\n",
    "print(max)"
   ]
  },
  {
   "cell_type": "markdown",
   "metadata": {},
   "source": [
    "3. Write a Python Program for array rotation?"
   ]
  },
  {
   "cell_type": "code",
   "execution_count": 43,
   "metadata": {},
   "outputs": [
    {
     "name": "stdout",
     "output_type": "stream",
     "text": [
      "eneter elements of a array with space: 1 2 3 4 5 6 7 8\n",
      "enter the offset: 3\n",
      "array after rotation:  ['4', '5', '6', '7', '8', '1', '2', '3']\n"
     ]
    }
   ],
   "source": [
    "array = input('enter elements of a array with space: ').split()\n",
    "offset = int(input('enter the offset: '))\n",
    "new_array = array[offset:]\n",
    "new_array = new_array + array[:offset]\n",
    "print('array after rotation: ',new_array)"
   ]
  },
  {
   "cell_type": "markdown",
   "metadata": {},
   "source": [
    "4. Write a Python Program to Split the array and add the first part to the end?"
   ]
  },
  {
   "cell_type": "code",
   "execution_count": 49,
   "metadata": {},
   "outputs": [
    {
     "name": "stdout",
     "output_type": "stream",
     "text": [
      "eneter elements of a array with space: 1 2 3 4 5\n",
      "new array is:  ['3', '4', '5', '1', '2']\n"
     ]
    }
   ],
   "source": [
    "array = input('enter elements of a array with space: ').split()\n",
    "half = int(len(array)/2)\n",
    "new_array1 = array[:half]\n",
    "new_array2 = array[half:]\n",
    "new_array2 = new_array2 + new_array1\n",
    "print('new array is: ',new_array2)"
   ]
  },
  {
   "cell_type": "markdown",
   "metadata": {},
   "source": [
    "5. Write a Python Program to check if given array is Monotonic?"
   ]
  },
  {
   "cell_type": "code",
   "execution_count": null,
   "metadata": {},
   "outputs": [],
   "source": [
    "5. Write a Python Program to check if given array is Monotonic"
   ]
  },
  {
   "cell_type": "code",
   "execution_count": 58,
   "metadata": {},
   "outputs": [
    {
     "name": "stdout",
     "output_type": "stream",
     "text": [
      "enter elements of a array with space: 1 2 5 3 6 3 5 3\n",
      "array is not Monotonic\n"
     ]
    }
   ],
   "source": [
    "array = input('enter elements of a array with space: ').split()\n",
    "flag = False\n",
    "for i in range(len(array)-1):\n",
    "    if array[i] >= array[i+1]:\n",
    "        flag = True\n",
    "    else:\n",
    "        flag = False\n",
    "        break\n",
    "if flag == False:       \n",
    "    for i in range(len(array)-1):\n",
    "        if array[i] <= array[i+1]:\n",
    "            flag = True\n",
    "        else:\n",
    "            flag = False\n",
    "            break\n",
    "if flag == True:\n",
    "    print('array is Monotonic')\n",
    "else:\n",
    "    print('array is not Monotonic')"
   ]
  }
 ],
 "metadata": {
  "kernelspec": {
   "display_name": "Python 3",
   "language": "python",
   "name": "python3"
  },
  "language_info": {
   "codemirror_mode": {
    "name": "ipython",
    "version": 3
   },
   "file_extension": ".py",
   "mimetype": "text/x-python",
   "name": "python",
   "nbconvert_exporter": "python",
   "pygments_lexer": "ipython3",
   "version": "3.7.6"
  }
 },
 "nbformat": 4,
 "nbformat_minor": 4
}
