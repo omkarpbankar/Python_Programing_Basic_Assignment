{
 "cells": [
  {
   "cell_type": "markdown",
   "metadata": {},
   "source": [
    "1. Write a Python Program to Add Two Matrices?"
   ]
  },
  {
   "cell_type": "code",
   "execution_count": 8,
   "metadata": {},
   "outputs": [
    {
     "name": "stdout",
     "output_type": "stream",
     "text": [
      "[[4, 4, 4], [10, 10, 10], [16, 16, 16]]\n"
     ]
    }
   ],
   "source": [
    "M1 = [[1,2,3],[4,5,6],[7,8,9]]\n",
    "M2 = [[3,2,1],[6,5,4],[9,8,7]]\n",
    "sum_M = [[0,0,0],[0,0,0],[0,0,0]]\n",
    "for i in range(len(M1)):\n",
    "    for j in range(len(M1[0])):\n",
    "        sum_M[i][j] = M1[i][j] + M2[i][j]\n",
    "print(sum_M)"
   ]
  },
  {
   "cell_type": "markdown",
   "metadata": {},
   "source": [
    "2. Write a Python Program to Multiply Two Matrices?"
   ]
  },
  {
   "cell_type": "code",
   "execution_count": 17,
   "metadata": {},
   "outputs": [
    {
     "name": "stdout",
     "output_type": "stream",
     "text": [
      "[[42, 36, 30, 0], [96, 81, 66, 0], [150, 126, 102, 0]]\n"
     ]
    }
   ],
   "source": [
    "M1 = [[1,2,3],[4,5,6],[7,8,9]]\n",
    "M2 = [[3,2,1,0],[6,5,4,0],[9,8,7,0]]\n",
    "# M1(3x3) X M2(3x4) = mul_M(3x4)\n",
    "mul_M = [[0,0,0,0],[0,0,0,0],[0,0,0,0]]\n",
    "for i in range(len(M1)):# iterate through rows of M1\n",
    "    for j in range(len(M2[0])):# iterate through columns of M2\n",
    "        for k in range(len(mul_M)):# iterate through rows of M2\n",
    "            mul_M[i][j] += M1[i][k] * M2[k][j]\n",
    "print(mul_M)"
   ]
  },
  {
   "cell_type": "markdown",
   "metadata": {},
   "source": [
    "3. Write a Python Program to Transpose a Matrix?"
   ]
  },
  {
   "cell_type": "code",
   "execution_count": 18,
   "metadata": {},
   "outputs": [
    {
     "name": "stdout",
     "output_type": "stream",
     "text": [
      "[[1, 3, 5], [2, 4, 6]]\n"
     ]
    }
   ],
   "source": [
    "M = [[1,2],[3,4],[5,6]]\n",
    "transpose_M = [[0,0,0],[0,0,0]]\n",
    "for i in range(len(M)):\n",
    "    for j in range(len(M[0])):\n",
    "        transpose_M[j][i] = M[i][j]\n",
    "print(transpose_M)\n",
    "        "
   ]
  },
  {
   "cell_type": "markdown",
   "metadata": {},
   "source": [
    "4. Write a Python Program to Sort Words in Alphabetic Order?"
   ]
  },
  {
   "cell_type": "code",
   "execution_count": 23,
   "metadata": {},
   "outputs": [
    {
     "name": "stdout",
     "output_type": "stream",
     "text": [
      "Please eneter a sentence: This is iNeuron tutorial python Programming Assignment\n",
      "['assignment', 'ineuron', 'is', 'programming', 'python', 'this', 'tutorial']\n"
     ]
    }
   ],
   "source": [
    "sentence = input(\"Please enter a sentence: \").split()\n",
    "word_list = [word.lower() for word in sentence]\n",
    "word_list.sort()\n",
    "print(word_list)"
   ]
  },
  {
   "cell_type": "markdown",
   "metadata": {},
   "source": [
    "5. Write a Python Program to Remove Punctuation From a String?"
   ]
  },
  {
   "cell_type": "code",
   "execution_count": 49,
   "metadata": {},
   "outputs": [
    {
     "name": "stdout",
     "output_type": "stream",
     "text": [
      "Please enter a sentence: This is @iNeuron's python programing assignment\\..\n",
      "sentence without punctuation is: This is iNeurons python programing assignment\n"
     ]
    }
   ],
   "source": [
    "punctuation_list = '''!()-[]{};:'\"\\,<>./?@#$%^&*_~'''\n",
    "sentence = input(\"Please enter a sentence: \")\n",
    "list_without_punctuation = []\n",
    "for ch in sentence:\n",
    "    if ch in punctuation_list:\n",
    "        sentence = sentence.replace(ch,'')\n",
    "print('sentence without punctuation is: {}'.format(sentence))"
   ]
  },
  {
   "cell_type": "code",
   "execution_count": null,
   "metadata": {},
   "outputs": [],
   "source": []
  }
 ],
 "metadata": {
  "kernelspec": {
   "display_name": "Python 3",
   "language": "python",
   "name": "python3"
  },
  "language_info": {
   "codemirror_mode": {
    "name": "ipython",
    "version": 3
   },
   "file_extension": ".py",
   "mimetype": "text/x-python",
   "name": "python",
   "nbconvert_exporter": "python",
   "pygments_lexer": "ipython3",
   "version": "3.7.6"
  }
 },
 "nbformat": 4,
 "nbformat_minor": 4
}
