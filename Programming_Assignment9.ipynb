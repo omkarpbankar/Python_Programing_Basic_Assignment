{
 "cells": [
  {
   "cell_type": "markdown",
   "metadata": {},
   "source": [
    "1. Write a Python program to check if the given number is a Disarium Number?"
   ]
  },
  {
   "cell_type": "code",
   "execution_count": 1,
   "metadata": {},
   "outputs": [
    {
     "name": "stdout",
     "output_type": "stream",
     "text": [
      "Please enter a number: 135\n",
      "Number is Disarium\n"
     ]
    }
   ],
   "source": [
    "number = int(input('Please enter a number: '))\n",
    "numberCopy = number\n",
    "sum = 0\n",
    "def getNumberofDigits(number):\n",
    "    reminderList = []\n",
    "    length = 0\n",
    "    while(number!=0):\n",
    "        rem = number%10\n",
    "        number = number//10\n",
    "        length = length + 1\n",
    "        reminderList.append(rem)\n",
    "    reminderList.reverse()\n",
    "    return reminderList    \n",
    "\n",
    "rem_list = getNumberofDigits(number)\n",
    "\n",
    "for index, item in enumerate(rem_list):\n",
    "    sum = sum + item**(index+1)\n",
    "    \n",
    "if sum == numberCopy:\n",
    "    print('Number is Disarium')\n",
    "else:\n",
    "    print('Number is not a Disarium')"
   ]
  },
  {
   "cell_type": "markdown",
   "metadata": {},
   "source": [
    "2. Write a Python program to print all disarium numbers between 1 to 100?"
   ]
  },
  {
   "cell_type": "code",
   "execution_count": 2,
   "metadata": {},
   "outputs": [
    {
     "name": "stdout",
     "output_type": "stream",
     "text": [
      "1\n",
      "2\n",
      "3\n",
      "4\n",
      "5\n",
      "6\n",
      "7\n",
      "8\n",
      "9\n",
      "89\n"
     ]
    }
   ],
   "source": [
    "def checkDisarium(number):\n",
    "    reminderList = []\n",
    "    length = 0\n",
    "    sum = 0\n",
    "    numberCopy = number\n",
    "    while(number!=0):\n",
    "        rem = number%10\n",
    "        number = number//10\n",
    "        length = length + 1\n",
    "        reminderList.append(rem)\n",
    "    reminderList.reverse()\n",
    "\n",
    "    for index, item in enumerate(reminderList):\n",
    "        sum = sum + item**(index+1)\n",
    "        \n",
    "    if sum == numberCopy:\n",
    "        print(numberCopy)\n",
    "        \n",
    "    return\n",
    "\n",
    "lower = 1\n",
    "upper = 100   \n",
    "for i in range(lower, upper + 1):\n",
    "    checkDisarium(i)"
   ]
  },
  {
   "cell_type": "code",
   "execution_count": 3,
   "metadata": {},
   "outputs": [
    {
     "name": "stdout",
     "output_type": "stream",
     "text": [
      "Please enter a number: 10\n",
      "The number is happy number.\n"
     ]
    }
   ],
   "source": [
    "number = int(input('Please enter a number: '))\n",
    "def checkIfHappy(number):\n",
    "    sum = 0\n",
    "    while(number!=0):\n",
    "        rem = number%10\n",
    "        number = number//10\n",
    "        sum = sum + (rem**2)\n",
    "    return sum\n",
    "\n",
    "result = checkIfHappy(number)\n",
    "while (result!=1 and result!=4):\n",
    "    result = checkIfHappy(result)\n",
    "if result == 1:\n",
    "    print('The number is happy number.')\n",
    "elif result == 4:\n",
    "    print('The number is not a happy number.')"
   ]
  },
  {
   "cell_type": "markdown",
   "metadata": {},
   "source": [
    "4. Write a Python program to print all happy numbers between 1 and 100?"
   ]
  },
  {
   "cell_type": "code",
   "execution_count": 4,
   "metadata": {},
   "outputs": [
    {
     "name": "stdout",
     "output_type": "stream",
     "text": [
      "1\n",
      "7\n",
      "10\n",
      "13\n",
      "19\n",
      "23\n",
      "28\n",
      "31\n",
      "32\n",
      "44\n",
      "49\n",
      "68\n",
      "70\n",
      "79\n",
      "82\n",
      "86\n",
      "91\n",
      "94\n",
      "97\n",
      "100\n"
     ]
    }
   ],
   "source": [
    "def checkIfHappy(number):\n",
    "    sum = 0\n",
    "    while(number!=0):\n",
    "        rem = number%10\n",
    "        number = number//10\n",
    "        sum = sum + (rem**2)\n",
    "    return sum\n",
    "\n",
    "lower = 1\n",
    "upper = 100   \n",
    "for i in range(lower, upper + 1):\n",
    "    result = checkIfHappy(i)\n",
    "    while (result!=1 and result!=4):\n",
    "        result = checkIfHappy(result)\n",
    "    if result == 1:\n",
    "        print(i)"
   ]
  },
  {
   "cell_type": "markdown",
   "metadata": {},
   "source": [
    "5. Write a Python program to determine whether the given number is a Harshad Number?"
   ]
  },
  {
   "cell_type": "code",
   "execution_count": 8,
   "metadata": {},
   "outputs": [
    {
     "name": "stdout",
     "output_type": "stream",
     "text": [
      "Please enter a number: 18\n",
      "Number is Harshad\n"
     ]
    }
   ],
   "source": [
    "number = int(input('Please enter a number: '))\n",
    "def checkIfHarshad(number):\n",
    "    sum = 0\n",
    "    numberCopy = number\n",
    "    while(number!=0):\n",
    "        rem = number%10\n",
    "        number = number//10\n",
    "        sum = sum + rem\n",
    "        \n",
    "    if numberCopy%sum == 0:\n",
    "        print('Number is Harshad')\n",
    "    else:\n",
    "        print('Numver is not a Harshad')\n",
    "    \n",
    "checkIfHarshad(number)    "
   ]
  },
  {
   "cell_type": "markdown",
   "metadata": {},
   "source": [
    "6. Write a Python program to print all pronic numbers between 1 and 100?"
   ]
  },
  {
   "cell_type": "code",
   "execution_count": 15,
   "metadata": {},
   "outputs": [
    {
     "name": "stdout",
     "output_type": "stream",
     "text": [
      "2\n",
      "6\n",
      "12\n",
      "20\n",
      "30\n",
      "42\n",
      "56\n",
      "72\n",
      "90\n"
     ]
    }
   ],
   "source": [
    "import math\n",
    "def checkIfPronic(number):\n",
    "    temp = 0\n",
    "    while(temp <= int(math.sqrt(number))):\n",
    "        if number == (temp*(temp+1)):\n",
    "            return True\n",
    "        temp = temp + 1\n",
    "    return False\n",
    "\n",
    "lower = 1\n",
    "upper = 100   \n",
    "for i in range(lower, upper + 1):\n",
    "    if checkIfPronic(i):\n",
    "        print(i)"
   ]
  },
  {
   "cell_type": "code",
   "execution_count": null,
   "metadata": {},
   "outputs": [],
   "source": []
  }
 ],
 "metadata": {
  "kernelspec": {
   "display_name": "Python 3",
   "language": "python",
   "name": "python3"
  },
  "language_info": {
   "codemirror_mode": {
    "name": "ipython",
    "version": 3
   },
   "file_extension": ".py",
   "mimetype": "text/x-python",
   "name": "python",
   "nbconvert_exporter": "python",
   "pygments_lexer": "ipython3",
   "version": "3.7.6"
  }
 },
 "nbformat": 4,
 "nbformat_minor": 4
}
