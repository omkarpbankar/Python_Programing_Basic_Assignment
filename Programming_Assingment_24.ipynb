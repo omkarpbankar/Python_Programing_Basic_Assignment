{
 "cells": [
  {
   "cell_type": "markdown",
   "metadata": {},
   "source": [
    "Question1\n",
    "Create a function that takes an integer and returns a list from 1 to the given number, where:\n",
    "If the number can be divided evenly by 4, amplify it by 10 (i.e. return 10 times the number).\n",
    "If the number cannot be divided evenly by 4, simply return the number.\n",
    "Examples\n",
    "amplify(4) ➞ [1, 2, 3, 40]\n",
    "\n",
    "amplify(3) ➞ [1, 2, 3]\n",
    "\n",
    "amplify(25) ➞ [1, 2, 3, 40, 5, 6, 7, 80, 9, 10, 11, 120, 13, 14, 15, 160, 17, 18, 19, 200, 21, 22, 23, 240, 25]\n",
    "Notes\n",
    "The given integer will always be equal to or greater than 1.\n",
    "Include the number (see example above).\n",
    "To perform this problem with its intended purpose, try doing it with list comprehensions. If that's too difficult, just solve the challenge any way you can.\n"
   ]
  },
  {
   "cell_type": "code",
   "execution_count": 7,
   "metadata": {},
   "outputs": [
    {
     "name": "stdout",
     "output_type": "stream",
     "text": [
      "[1, 2, 3, 40]\n",
      "[1, 2, 3]\n",
      "[1, 2, 3, 40, 5, 6, 7, 80, 9, 10, 11, 120, 13, 14, 15, 160, 17, 18, 19, 200, 21, 22, 23, 240, 25]\n"
     ]
    }
   ],
   "source": [
    "def amplify(n):\n",
    "    result = [i*10 if i%4==0 else i for i in range(1,n+1)]\n",
    "    return result\n",
    "print(amplify(4))\n",
    "print(amplify(3))\n",
    "print(amplify(25))"
   ]
  },
  {
   "cell_type": "markdown",
   "metadata": {},
   "source": [
    "Question2\n",
    "Create a function that takes a list of numbers and return the number that's unique.\n",
    "Examples\n",
    "unique([3, 3, 3, 7, 3, 3]) ➞ 7\n",
    "\n",
    "unique([0, 0, 0.77, 0, 0]) ➞ 0.77\n",
    "\n",
    "unique([0, 1, 1, 1, 1, 1, 1, 1]) ➞ 0\n",
    "Notes\n",
    "Test cases will always have exactly one unique number while all others are the same.\n"
   ]
  },
  {
   "cell_type": "code",
   "execution_count": 11,
   "metadata": {},
   "outputs": [
    {
     "name": "stdout",
     "output_type": "stream",
     "text": [
      "7\n",
      "0.77\n",
      "0\n"
     ]
    }
   ],
   "source": [
    "def unique(inp_list):\n",
    "    unique_list = list(set(inp_list))\n",
    "    for i in unique_list:\n",
    "        if inp_list.count(i) == 1:\n",
    "            return i\n",
    "print(unique([3, 3, 3, 7, 3, 3]))\n",
    "print(unique([0, 0, 0.77, 0, 0]))\n",
    "print(unique([0, 1, 1, 1, 1, 1, 1, 1]))"
   ]
  },
  {
   "cell_type": "markdown",
   "metadata": {},
   "source": [
    "Question3\n",
    "Your task is to create a Circle constructor that creates a circle with a radius provided by an argument. The circles constructed must have two getters getArea() (PIr^2) and getPerimeter() (2PI*r) which give both respective areas and perimeter (circumference).\n",
    "For help with this class, I have provided you with a Rectangle constructor which you can use as a base example.\n",
    "Examples\n",
    "circy = Circle(11)\n",
    "circy.getArea()\n",
    "\n",
    "# Should return 380.132711084365\n",
    "\n",
    "circy = Circle(4.44)\n",
    "circy.getPerimeter()\n",
    "\n",
    "# Should return 27.897342763877365\n",
    "Notes\n",
    "Round results up to the nearest integer.\n"
   ]
  },
  {
   "cell_type": "code",
   "execution_count": 14,
   "metadata": {},
   "outputs": [
    {
     "name": "stdout",
     "output_type": "stream",
     "text": [
      "380\n",
      "28\n"
     ]
    }
   ],
   "source": [
    "import math\n",
    "class Circle:\n",
    "    def __init__(self,r):\n",
    "        self.r = r\n",
    "        self.area = math.pi*(self.r**2)\n",
    "        self.perimeter = 2*math.pi*self.r\n",
    "    def getArea(self):\n",
    "        return round(self.area)\n",
    "    def getPerimeter(self):\n",
    "        return round(self.perimeter)\n",
    "    \n",
    "circy = Circle(11)\n",
    "print(circy.getArea())\n",
    "\n",
    "circy = Circle(4.44)\n",
    "print(circy.getPerimeter())"
   ]
  },
  {
   "cell_type": "markdown",
   "metadata": {},
   "source": [
    "Question4\n",
    "Create a function that takes a list of strings and return a list, sorted from shortest to longest.\n",
    "Examples\n",
    "sort_by_length([\"Google\", \"Apple\", \"Microsoft\"])\n",
    "➞ [\"Apple\", \"Google\", \"Microsoft\"]\n",
    "\n",
    "sort_by_length([\"Leonardo\", \"Michelangelo\", \"Raphael\", \"Donatello\"])\n",
    "➞ [\"Raphael\", \"Leonardo\", \"Donatello\", \"Michelangelo\"]\n",
    "\n",
    "sort_by_length([\"Turing\", \"Einstein\", \"Jung\"])\n",
    "➞ [\"Jung\", \"Turing\", \"Einstein\"]\n",
    "Notes\n",
    "All test cases contain lists with strings of different lengths, so you won't have to deal with multiple strings of the same length.\n"
   ]
  },
  {
   "cell_type": "code",
   "execution_count": 21,
   "metadata": {},
   "outputs": [
    {
     "name": "stdout",
     "output_type": "stream",
     "text": [
      "['Apple', 'Google', 'Microsoft']\n",
      "['Raphael', 'Leonardo', 'Donatello', 'Michelangelo']\n",
      "['Jung', 'Turing', 'Einstein']\n"
     ]
    }
   ],
   "source": [
    "import collections\n",
    "def sort_by_length(inp_list):\n",
    "    temp_dict = {}\n",
    "    for i in inp_list:\n",
    "        temp_dict[len(i)]=i\n",
    "    dictionary_items = temp_dict.items()\n",
    "    sorted_list = sorted(dictionary_items)\n",
    "    sorted_list = [i[1] for i in sorted_list]\n",
    "    return sorted_list\n",
    "print(sort_by_length([\"Google\", \"Apple\", \"Microsoft\"]))\n",
    "print(sort_by_length([\"Leonardo\", \"Michelangelo\", \"Raphael\", \"Donatello\"]))\n",
    "print(sort_by_length([\"Turing\", \"Einstein\", \"Jung\"]))"
   ]
  },
  {
   "cell_type": "markdown",
   "metadata": {},
   "source": [
    "Question5\n",
    "Create a function that validates whether three given integers form a Pythagorean triplet. The sum of the squares of the two smallest integers must equal the square of the largest number to be validated.\n",
    "\n",
    "\n",
    "Examples\n",
    "is_triplet(3, 4, 5) ➞ True\n",
    "# 3² + 4² = 25\n",
    "# 5² = 25\n",
    "\n",
    "is_triplet(13, 5, 12) ➞ True\n",
    "# 5² + 12² = 169\n",
    "# 13² = 169\n",
    "\n",
    "is_triplet(1, 2, 3) ➞ False\n",
    "# 1² + 2² = 5\n",
    "# 3² = 9\n",
    "Notes\n",
    "Numbers may not be given in a sorted order.\n"
   ]
  },
  {
   "cell_type": "code",
   "execution_count": 22,
   "metadata": {},
   "outputs": [
    {
     "name": "stdout",
     "output_type": "stream",
     "text": [
      "True\n",
      "True\n",
      "False\n"
     ]
    }
   ],
   "source": [
    "def is_triplet(n1,n2,n3):\n",
    "    inp_list = [n1,n2,n3]\n",
    "    max_val = max(inp_list)\n",
    "    square_sum = 0\n",
    "    for i in inp_list:\n",
    "        if i != max_val:\n",
    "            square_sum += i**2\n",
    "    if square_sum == (max_val**2):\n",
    "        return True\n",
    "    else:\n",
    "        return False\n",
    "print(is_triplet(3, 4, 5))\n",
    "print(is_triplet(13, 5, 12))\n",
    "print(is_triplet(1, 2, 3))"
   ]
  },
  {
   "cell_type": "code",
   "execution_count": null,
   "metadata": {},
   "outputs": [],
   "source": []
  }
 ],
 "metadata": {
  "kernelspec": {
   "display_name": "Python 3",
   "language": "python",
   "name": "python3"
  },
  "language_info": {
   "codemirror_mode": {
    "name": "ipython",
    "version": 3
   },
   "file_extension": ".py",
   "mimetype": "text/x-python",
   "name": "python",
   "nbconvert_exporter": "python",
   "pygments_lexer": "ipython3",
   "version": "3.8.12"
  }
 },
 "nbformat": 4,
 "nbformat_minor": 4
}
