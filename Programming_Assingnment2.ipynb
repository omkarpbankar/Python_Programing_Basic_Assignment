{
 "cells": [
  {
   "cell_type": "markdown",
   "metadata": {},
   "source": [
    "1.\tWrite a Python program to convert kilometers to miles?"
   ]
  },
  {
   "cell_type": "code",
   "execution_count": 3,
   "metadata": {},
   "outputs": [
    {
     "name": "stdout",
     "output_type": "stream",
     "text": [
      "enter a km value to be converted into miles10\n",
      "value as km:  10\n",
      "value as mi:  6.21371\n"
     ]
    }
   ],
   "source": [
    "km_value = input('enter a km value to be converted into miles')\n",
    "mi_value = int(km_value) * 0.621371\n",
    "print('value as km: ',km_value)\n",
    "print('value as mi: ',mi_value)"
   ]
  },
  {
   "cell_type": "markdown",
   "metadata": {},
   "source": [
    "2.\tWrite a Python program to convert Celsius to Fahrenheit?"
   ]
  },
  {
   "cell_type": "code",
   "execution_count": 4,
   "metadata": {},
   "outputs": [
    {
     "name": "stdout",
     "output_type": "stream",
     "text": [
      "enter a Celsius value to be converted into Fahrenheit15.5\n",
      "value as Celsius:  15.5\n",
      "value as Fahrenheit:  27.9\n"
     ]
    }
   ],
   "source": [
    "celsius_value = float(input('enter a Celsius value to be converted into Fahrenheit'))\n",
    "fahrenheit_value = celsius_value * 9/5\n",
    "print('value as Celsius: ',celsius_value)\n",
    "print('value as Fahrenheit: ',fahrenheit_value)"
   ]
  },
  {
   "cell_type": "markdown",
   "metadata": {},
   "source": [
    "3.\tWrite a Python program to display calendar?"
   ]
  },
  {
   "cell_type": "code",
   "execution_count": 9,
   "metadata": {},
   "outputs": [
    {
     "name": "stdout",
     "output_type": "stream",
     "text": [
      "enter year you want to see: 2021\n",
      "enter month you want to see: 3\n",
      "     March 2021\n",
      "Mo Tu We Th Fr Sa Su\n",
      " 1  2  3  4  5  6  7\n",
      " 8  9 10 11 12 13 14\n",
      "15 16 17 18 19 20 21\n",
      "22 23 24 25 26 27 28\n",
      "29 30 31\n",
      "\n"
     ]
    }
   ],
   "source": [
    "import calendar\n",
    "year = int(input('enter year you want to see: '))\n",
    "month = int(input('enter month you want to see: '))\n",
    "print(calendar.month(year, month))"
   ]
  },
  {
   "cell_type": "markdown",
   "metadata": {},
   "source": [
    "4.\tWrite a Python program to solve quadratic equation?"
   ]
  },
  {
   "cell_type": "code",
   "execution_count": 13,
   "metadata": {},
   "outputs": [
    {
     "name": "stdout",
     "output_type": "stream",
     "text": [
      "2 solutions are (-2-1.7320508075688772j),(-2+1.7320508075688772j)\n"
     ]
    }
   ],
   "source": [
    "# Solve the quadratic equation ax**2 + bx + c = 0\n",
    "\n",
    "import cmath\n",
    "a,b,c = 1,4,7\n",
    "\n",
    "d = (b**2)-(4*a*c)\n",
    "\n",
    "sol1 = (-b-cmath.sqrt(d))/(2*a)\n",
    "sol2 = (-b+cmath.sqrt(d))/(2*a)\n",
    "print('2 solutions are {},{}'.format(sol1,sol2))"
   ]
  },
  {
   "cell_type": "markdown",
   "metadata": {},
   "source": [
    "5.\tWrite a Python program to swap two variables without temp variable?"
   ]
  },
  {
   "cell_type": "code",
   "execution_count": 1,
   "metadata": {},
   "outputs": [
    {
     "name": "stdout",
     "output_type": "stream",
     "text": [
      "input 2 numbers10 12\n",
      "numbers before swap :10, 12\n",
      "numbers after swap :12, 10\n"
     ]
    }
   ],
   "source": [
    "num1,num2 = input('input 2 numbers').split()\n",
    "print('numbers before swap :{}, {}'.format(num1,num2))\n",
    "num1,num2 = num2,num1\n",
    "print('numbers after swap :{}, {}'.format(num1,num2))"
   ]
  }
 ],
 "metadata": {
  "kernelspec": {
   "display_name": "Python 3",
   "language": "python",
   "name": "python3"
  },
  "language_info": {
   "codemirror_mode": {
    "name": "ipython",
    "version": 3
   },
   "file_extension": ".py",
   "mimetype": "text/x-python",
   "name": "python",
   "nbconvert_exporter": "python",
   "pygments_lexer": "ipython3",
   "version": "3.7.6"
  }
 },
 "nbformat": 4,
 "nbformat_minor": 4
}
